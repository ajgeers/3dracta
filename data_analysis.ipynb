{
 "cells": [
  {
   "cell_type": "markdown",
   "metadata": {},
   "source": [
    "# Reproducibility of hemodynamic simulations of cerebral aneurysms across imaging modalities 3DRA and CTA\n",
    "\n",
    "Arjan Geers\n",
    "\n",
    "This notebook reproduces\\* the data analysis [presented](http://dx.doi.org/10.3174/ajnr.A2306) in:\n",
    "\n",
    "Geers AJ, Larrabide I, Radaelli AG, Bogunovic H, Kim M, Gratama van Andel HAF, Majoie CB, VanBavel E, Frangi AF. Patient-specific computational hemodynamics of intracranial aneurysms from 3D rotational angiography and CT angiography: An in vivo reproducibility study. American Journal of Neuroradiology, 32(3):581–586, 2011.\n",
    "\n",
    "The goal of the study was to determine the reproducibility of blood flow simulations of cerebral aneurysms. Patients with a total of 10 cerebral aneurysms were imaged with both 3D rotational angiography (3DRA) and computed tomographic angiography (CTA). Each image independently was segmented to obtain a vascular model, the same boundary conditions were imposed, and a CFD simulation was obtained.\n",
    "\n",
    "\\*Originally, data was analyzed in MATLAB R2010b and the boxplot was created in Mathematica 7. "
   ]
  },
  {
   "cell_type": "markdown",
   "metadata": {},
   "source": [
    "## Preamble"
   ]
  },
  {
   "cell_type": "code",
   "execution_count": null,
   "metadata": {},
   "outputs": [],
   "source": [
    "%matplotlib inline"
   ]
  },
  {
   "cell_type": "code",
   "execution_count": null,
   "metadata": {},
   "outputs": [],
   "source": [
    "import os\n",
    "import numpy as np\n",
    "import pandas as pd\n",
    "from scipy import stats\n",
    "import matplotlib.pyplot as plt"
   ]
  },
  {
   "cell_type": "markdown",
   "metadata": {},
   "source": [
    "# Data"
   ]
  },
  {
   "cell_type": "markdown",
   "metadata": {},
   "source": [
    "The data used in this notebook is also available on [FigShare](http://dx.doi.org/10.6084/m9.figshare.1354056):\n",
    "\n",
    "Geers AJ, Larrabide I, Radaelli AG, Bogunovic H, Kim M, Gratama van Andel HAF, Majoie CB, VanBavel E, Frangi AF. Reproducibility of hemodynamic simulations of cerebral aneurysms across imaging modalities 3DRA and CTA: Geometric and hemodynamic data. FigShare, 2015. DOI: 10.6084/m9.figshare.1354056\n",
    "\n",
    "Variables are defined as follows (TA: time-averaged; PS: peak systole; ED: end diastole):\n",
    "* A_N: Aneurysm neck area\n",
    "* V_A: Aneurysm volume\n",
    "* Q_P: TA flow rate in the parent vessel just proximal to the aneurysm\n",
    "* Q_A: TA flow rate into the aneurysm\n",
    "* NQ_A: Q_A / Q_P\n",
    "* WSS_P: Average TA WSS on the wall of a parent vessel segment just proximal to the aneurysm\n",
    "* WSS_A: Average TA WSS on the aneurysm wall\n",
    "* NWSS_A: WSS_A / WSS_P\n",
    "* LWSS_A: Portion of the aneurysm wall with WSS < 0.4 Pa at ED\n",
    "* MWSS_A: Maximum WSS on the aneurysm wall at PS\n",
    "* 90WSS_A: 90th percentile value of the WSS on the aneurysm wall at PS\n",
    "* N90WSS_A: 90WSS_A normalized by the average WSS on the aneurysm wall at PS"
   ]
  },
  {
   "cell_type": "code",
   "execution_count": null,
   "metadata": {
    "scrolled": true
   },
   "outputs": [],
   "source": [
    "df_input = pd.read_csv(os.path.join('data', '3dracta.csv'), index_col=[0, 1])\n",
    "df_input"
   ]
  },
  {
   "cell_type": "markdown",
   "metadata": {},
   "source": [
    "Extract separate dataframes for 3DRA and CTA."
   ]
  },
  {
   "cell_type": "code",
   "execution_count": null,
   "metadata": {},
   "outputs": [],
   "source": [
    "df_3dra = df_input.xs('3dra', level='modality')\n",
    "df_cta = df_input.xs('cta', level='modality')"
   ]
  },
  {
   "cell_type": "markdown",
   "metadata": {},
   "source": [
    "## Statistics"
   ]
  },
  {
   "cell_type": "markdown",
   "metadata": {},
   "source": [
    "Calculate the relative difference between 3DRA and CTA wrt 3DRA. Per variable, get the mean and standard error of this relative difference over all aneurysms."
   ]
  },
  {
   "cell_type": "code",
   "execution_count": null,
   "metadata": {},
   "outputs": [],
   "source": [
    "df_reldiff = 100 * abs(df_3dra - df_cta)/df_3dra\n",
    "s_mean = df_reldiff.mean()\n",
    "s_standarderror = pd.Series(stats.sem(df_reldiff), index=df_input.columns)"
   ]
  },
  {
   "cell_type": "markdown",
   "metadata": {},
   "source": [
    "# Test differences between 3DRA and CTA with the Wilcoxon signed rank test.\n",
    "\n",
    "Note: MATLAB was used to perform this test for the paper. Its 'signrank' function defaults to using the 'exact method' if a dataset has 15 or fewer observations and the 'approximate method' otherwise. See the [documentation](http://www.mathworks.com/help/stats/signrank.html) for more details. SciPy's 'wilcoxon' function has currently (version 1.3.0) no equivalent option and always uses the 'approximate method'."
   ]
  },
  {
   "cell_type": "code",
   "execution_count": null,
   "metadata": {},
   "outputs": [],
   "source": [
    "pvalue = np.empty(len(df_input.columns))\n",
    "for i, variable in enumerate(df_input.columns):\n",
    "    pvalue[i] = stats.wilcoxon(df_3dra[variable], df_cta[variable])[1]\n",
    "s_pvalue = pd.Series(pvalue, index=df_input.columns)"
   ]
  },
  {
   "cell_type": "markdown",
   "metadata": {},
   "source": [
    "Determine the number of aneurysms for which a variable is lower for CTA than for 3DRA."
   ]
  },
  {
   "cell_type": "code",
   "execution_count": null,
   "metadata": {},
   "outputs": [],
   "source": [
    "numberofcases = np.empty(len(df_input.columns))\n",
    "for i, variable in enumerate(df_input.columns):\n",
    "    numberofcases[i] = sum(df_3dra.loc[j, variable] > df_cta.loc[j, variable]\n",
    "                           for j in df_input.index.levels[0])\n",
    "s_numberofcases = pd.Series(numberofcases, index=df_input.columns)"
   ]
  },
  {
   "cell_type": "markdown",
   "metadata": {},
   "source": [
    "Compose a dataframe with the obtained statistical results, corresponding to the 'online table' of the journal paper."
   ]
  },
  {
   "cell_type": "code",
   "execution_count": null,
   "metadata": {},
   "outputs": [],
   "source": [
    "d = {'M': s_numberofcases,\n",
    "     'P': s_pvalue,\n",
    "     'Mean (%)': s_mean,\n",
    "     'SE (%)': s_standarderror}\n",
    "\n",
    "df_output = pd.DataFrame(d, columns=['M', 'P', 'Mean (%)', 'SE (%)'])\n",
    "df_output"
   ]
  },
  {
   "cell_type": "markdown",
   "metadata": {},
   "source": [
    "## Boxplot"
   ]
  },
  {
   "cell_type": "markdown",
   "metadata": {},
   "source": [
    "Make boxplots showing the distributions of the relative differences over all aneurysms."
   ]
  },
  {
   "cell_type": "code",
   "execution_count": null,
   "metadata": {},
   "outputs": [],
   "source": [
    "# extract arrays to plot from dataframe\n",
    "array_yticklabels = ['$\\mathregular{' + variable.replace('%', '\\%') + '}$'\n",
    "                     for variable in df_reldiff.columns]\n",
    "array_reldiff = df_reldiff.values\n",
    "\n",
    "# create plot\n",
    "fig, ax = plt.subplots()\n",
    "bp = ax.boxplot(array_reldiff, sym='+', vert=0, patch_artist=True)\n",
    "\n",
    "# set labels\n",
    "ax.set_xlabel('Relative difference (%)', fontsize=18)\n",
    "ax.set_xlim(0, 130)\n",
    "ax.set_yticklabels(array_yticklabels, fontsize=12)\n",
    "\n",
    "# format box, whiskers, etc.\n",
    "plt.setp(ax.get_xticklabels(), fontsize=12)\n",
    "plt.setp(bp['boxes'], color='black')\n",
    "plt.setp(bp['medians'], color='white')\n",
    "plt.setp(bp['whiskers'], color='black', linestyle='-')\n",
    "plt.setp(bp['fliers'], color='black', markersize=5)\n",
    "plt.tight_layout()"
   ]
  },
  {
   "cell_type": "code",
   "execution_count": null,
   "metadata": {},
   "outputs": [],
   "source": []
  }
 ],
 "metadata": {
  "kernelspec": {
   "display_name": "Python 3",
   "language": "python",
   "name": "python3"
  },
  "language_info": {
   "codemirror_mode": {
    "name": "ipython",
    "version": 3
   },
   "file_extension": ".py",
   "mimetype": "text/x-python",
   "name": "python",
   "nbconvert_exporter": "python",
   "pygments_lexer": "ipython3",
   "version": "3.7.3"
  }
 },
 "nbformat": 4,
 "nbformat_minor": 1
}
